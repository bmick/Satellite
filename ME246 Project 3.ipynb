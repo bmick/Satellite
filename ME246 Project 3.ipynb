{
 "metadata": {
  "name": "",
  "signature": "sha256:1132a1ea8017266711493375fa7ac6c2609973ccf838dfefa68542df5441e147"
 },
 "nbformat": 3,
 "nbformat_minor": 0,
 "worksheets": [
  {
   "cells": [
    {
     "cell_type": "code",
     "collapsed": false,
     "input": [
      "def LinCurveFit():\n",
      "    # This code solves Task 1, it finds a linear curve fit for \n",
      "    # The data given on the handout. \n",
      "    \n",
      "    T_vals = [30,42,50,60,82]\n",
      "    T_vals = [T+273 for T in T_vals]\n",
      "    V_vals = [37,35,33,31,27]\n",
      "    A,B = np.polyfit(T_vals, V_vals,1)\n",
      "    if plots:\n",
      "        plt.plot(T_vals,V_vals,'g*')\n",
      "        plt.plot([293,373],[A*T+B for T in [293,373]],'b:')\n",
      "        plt.show()\n",
      "    \n",
      "    return A,B"
     ],
     "language": "python",
     "metadata": {},
     "outputs": [],
     "prompt_number": 41
    },
    {
     "cell_type": "code",
     "collapsed": false,
     "input": [],
     "language": "python",
     "metadata": {},
     "outputs": [],
     "prompt_number": 41
    },
    {
     "cell_type": "code",
     "collapsed": false,
     "input": [
      "#ME246 Project 3\n",
      "#Main Code\n",
      "#Mathilde Motte & Brian Mick\n",
      "#Start: 4.8.2015\n",
      "\n",
      "import numpy as np\n",
      "import matplotlib.pyplot as plt\n",
      "%matplotlib inline\n",
      "plots = True\n",
      "\n",
      "A,B = LinCurveFit()\n",
      "print A,B\n"
     ],
     "language": "python",
     "metadata": {},
     "outputs": [
      {
       "metadata": {},
       "output_type": "display_data",
       "png": "[encoded data removed]",
       "text": [
        "<matplotlib.figure.Figure at 0x108214a10>"
       ]
      },
      {
       "output_type": "stream",
       "stream": "stdout",
       "text": [
        "-0.195247933884 96.2117768595\n"
       ]
      }
     ],
     "prompt_number": 43
    },
    {
     "cell_type": "code",
     "collapsed": false,
     "input": [],
     "language": "python",
     "metadata": {},
     "outputs": []
    }
   ],
   "metadata": {}
  }
 ]
}