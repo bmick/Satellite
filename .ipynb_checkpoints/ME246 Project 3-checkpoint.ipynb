{
 "metadata": {
  "name": "",
  "signature": "sha256:71b2753359a363b076abf4b65e37572947b7bc46d63803f1d552f2304b97b211"
 },
 "nbformat": 3,
 "nbformat_minor": 0,
 "worksheets": [
  {
   "cells": [
    {
     "cell_type": "code",
     "collapsed": false,
     "input": [
      "def VocCurveFit():\n",
      "    # This code solves Task 1, it finds a linear curve fit for \n",
      "    # The data given on the handout. \n",
      "    \n",
      "    T_vals = [30,42,50,60,82]\n",
      "    T_vals = [T+273 for T in T_vals]\n",
      "    V_vals = [37,35,33,31,27]\n",
      "    A,B = np.polyfit(T_vals, V_vals,1)\n",
      "    if plots:\n",
      "        plt.plot(T_vals,V_vals,'g*')\n",
      "        plt.plot([293,373],[A*T+B for T in [293,373]],'b:')\n",
      "        plt.show()\n",
      "    \n",
      "    return A,B"
     ],
     "language": "python",
     "metadata": {},
     "outputs": [],
     "prompt_number": 44
    },
    {
     "cell_type": "code",
     "collapsed": false,
     "input": [
      "def IoIvfromT(T):\n",
      "    #This code returns Io/Iv as a function of T\n",
      "    #Based on the linear temperature fit for Voc\n",
      "    #As given in VocCurveFit\n",
      "    A,B = VocCurveFit()\n",
      "    Iv_Io = np.exp(A*T + B - K_b*T/q_e)-1\n",
      "    Io_Iv = 1/Iv_Io\n",
      "    return Io_Iv"
     ],
     "language": "python",
     "metadata": {},
     "outputs": [],
     "prompt_number": 65
    },
    {
     "cell_type": "code",
     "collapsed": false,
     "input": [
      "#ME246 Project 3\n",
      "#Main Code\n",
      "#Mathilde Motte & Brian Mick\n",
      "#Start: 4.8.2015\n",
      "\n",
      "import numpy as np\n",
      "import matplotlib.pyplot as plt\n",
      "%matplotlib inline\n",
      "plots = False\n",
      "\n",
      "T_pv = 300 #K\n",
      "K_b = 1.3806488*10**-23 #Boltzman Constant: m^2 kg / s^2 K\n",
      "q_e = 1.60217657*10**-19 #Charge on an Electron: Coulombs\n",
      "\n",
      "\n",
      "A,B = VocCurveFit()\n",
      "print \"Voc = {:.3f}*T + {:.2f}\".format(A,B)\n",
      "Io_Iv = IoIvfromT(T_pv)\n",
      "print \"Io/Iv = {:.3e}\".format(Io_Iv)\n"
     ],
     "language": "python",
     "metadata": {},
     "outputs": [
      {
       "output_type": "stream",
       "stream": "stdout",
       "text": [
        "Voc = -0.195*T + 96.21\n",
        "Io/Iv = 4.629e-17\n"
       ]
      }
     ],
     "prompt_number": 66
    },
    {
     "cell_type": "code",
     "collapsed": false,
     "input": [],
     "language": "python",
     "metadata": {},
     "outputs": []
    }
   ],
   "metadata": {}
  }
 ]
}