{
 "metadata": {
  "name": "",
  "signature": "sha256:898f707c1c2c0cccd4a0e9918f04ddb03612b68b62404ed287cea0388c52e557"
 },
 "nbformat": 3,
 "nbformat_minor": 0,
 "worksheets": [
  {
   "cells": [
    {
     "cell_type": "code",
     "collapsed": false,
     "input": [
      "def VocCurveFit():\n",
      "    # This code solves Task 1, it finds a linear curve fit for \n",
      "    # The data given on the handout. \n",
      "    \n",
      "    T_vals = [30.,42.,50.,60.,82.]\n",
      "    T_vals = [T+273 for T in T_vals]\n",
      "    V_vals = [.37,.35,.33,.31,.27]\n",
      "    A,B = np.polyfit(T_vals, V_vals,1)\n",
      "    if plots:\n",
      "        plt.plot(T_vals,V_vals,'g*')\n",
      "        plt.plot([293,373],[A*T+B for T in [293,373]],'b:')\n",
      "        plt.show()\n",
      "    \n",
      "    return A,B"
     ],
     "language": "python",
     "metadata": {},
     "outputs": [],
     "prompt_number": 1
    },
    {
     "cell_type": "code",
     "collapsed": false,
     "input": [
      "def IoIvfromT(T):\n",
      "    #This code returns Io/Iv as a function of T\n",
      "    #Based on the linear temperature fit for Voc\n",
      "    #As given in VocCurveFit\n",
      "    A,B = VocCurveFit()\n",
      "    Iv_Io = np.exp((A*T + B)/(K_b*T/q_e))-1\n",
      "    Io_Iv = 1/Iv_Io\n",
      "    return Io_Iv"
     ],
     "language": "python",
     "metadata": {},
     "outputs": [],
     "prompt_number": 2
    },
    {
     "cell_type": "code",
     "collapsed": false,
     "input": [
      "def integrand(x):\n",
      "    return x**2/(np.exp(x)-1)"
     ],
     "language": "python",
     "metadata": {},
     "outputs": [],
     "prompt_number": 3
    },
    {
     "cell_type": "code",
     "collapsed": false,
     "input": [
      "def PowerfromRLpv(R_Lpv):\n",
      "    \n",
      "    phi = P/(math.pi**4*K_b*T_source/(2.404*15))\n",
      "    X = q_e*V_g/(K_b*T_source)\n",
      "    Val, err = quad(integrand, X, 40)\n",
      "    phi_g = phi*.416*Val\n",
      "    Iv = phi_g*q_e*A_pv\n",
      "    global Io\n",
      "    Io = Io_Iv*Iv\n",
      "    \n",
      "    if plots:\n",
      "        IL = np.arange(64)\n",
      "        V_L = [K_b*T_pv/q_e*math.log((Io_Iv)**-1-I/Io+1)-I*Rs for I in IL]\n",
      "        V_L2 = [R_Lpv*I for I in IL]\n",
      "        IL = np.arange(len(V_L))\n",
      "        plt.plot(IL,V_L,IL,V_L2)\n",
      "        plt.show()\n",
      "    \n",
      "    I_0 = 0\n",
      "    I_1 = 1\n",
      "    iterations = 0\n",
      "    while abs(I_0-I_1)>.01:\n",
      "        iterations += 1\n",
      "        I_0 = I_1\n",
      "        I_1 = I_0 - f_VL(I_0+1)/(f_VL(I_0+1)-f_VL(I_0))\n",
      "        # print I_0, I_1, iterations\n",
      "        if iterations > 10:\n",
      "            break\n",
      "    \n",
      "    P_Lpv = I_1**2*R_Lpv\n",
      "    \n",
      "    return P_Lpv"
     ],
     "language": "python",
     "metadata": {},
     "outputs": [],
     "prompt_number": 7
    },
    {
     "cell_type": "code",
     "collapsed": false,
     "input": [
      "def f_VL(IL):\n",
      "    E = K_b*T_pv/q_e*math.log((Io_Iv)**-1-IL/Io+1)-IL*Rs-IL*R_Lpv\n",
      "    return E"
     ],
     "language": "python",
     "metadata": {},
     "outputs": [],
     "prompt_number": 8
    },
    {
     "cell_type": "code",
     "collapsed": false,
     "input": [
      "#ME246 Project 3\n",
      "#Main Code\n",
      "#Mathilde Motte & Brian Mick\n",
      "#Start: 4.8.2015\n",
      "\n",
      "import numpy as np\n",
      "import scipy as sc\n",
      "from scipy.integrate import quad\n",
      "import math\n",
      "import matplotlib.pyplot as plt\n",
      "%matplotlib inline\n",
      "\n",
      "T_pv = 293 #K\n",
      "T_source = 6000 #K\n",
      "K_b = 1.3806488*10**-23 #Boltzman Constant: m^2 kg / s^2 K\n",
      "q_e = 1.60217657*10**-19 #Charge on an Electron: Coulombs\n",
      "V_g = 1.1 # Volts\n",
      "Rs = 0\n",
      "R_Lpv = .007 #Ohms\n",
      "Ly = .1 # m\n",
      "Lz = .1 # m\n",
      "A_pv = Ly*Lz # m^2 (This is a pretty tiny solar panel)\n",
      "I_D = 1350 # W/m^2\n",
      "Rc = 12 #Collector ratio\n",
      "P = I_D*Rc # Total power incident upon the solar panel\n",
      "\n",
      "\n",
      "plots = False\n",
      "A,B = VocCurveFit()\n",
      "print \"Voc = {:.5f}*T + {:.2f}\".format(A,B)\n",
      "\n",
      "plots = False\n",
      "Io_Iv = IoIvfromT(T_pv)\n",
      "print \"Io/Iv = {:.3e}\".format(Io_Iv)\n",
      "\n",
      "plots = False\n",
      "P_Lpv = PowerfromRLpv(R_Lpv)\n",
      "print \"Power developed = {:.2f} W\".format(P_Lpv)\n",
      "\n"
     ],
     "language": "python",
     "metadata": {},
     "outputs": [
      {
       "output_type": "stream",
       "stream": "stdout",
       "text": [
        "Voc = -0.00195*T + 0.96\n",
        "Io/Iv = 1.955e-07\n",
        "Power developed = 17.00 W\n"
       ]
      }
     ],
     "prompt_number": 9
    },
    {
     "cell_type": "code",
     "collapsed": false,
     "input": [
      "# Random charts and tables to think about: \n",
      "phi = P/((math.pi**4*K_b*T_source)/(2.404*15))\n",
      "Val, err = quad(integrand, 0, 32)\n",
      "x_val = np.arange(.01,10,.1)\n",
      "y_val = [x**2/(np.exp(x)-1) for x in x_val]\n",
      "plt.plot(x_val,y_val)\n",
      "plt.title(\"Plot of $x^2/(e^x-1)$\")\n",
      "plt.show()\n",
      "# print Val, err\n",
      "\n",
      "plt.figure(1)\n",
      "T_pvs = np.arange(200,700,5)\n",
      "Io_Ivs = [IoIvfromT(T) for T in T_pvs]\n",
      "plt.figure(1)\n",
      "plt.plot(T_pvs, Io_Ivs)\n",
      "plt.show()\n",
      "\n",
      "plt.figure(2)\n",
      "#IL = np.arange(0.,64.6079,.0001) #WARNING! This can take a while to run. \n",
      "IL = np.arange(64)\n",
      "phi = P/(math.pi**4*K_b*T_source/(2.404*15))\n",
      "X = q_e*V_g/(K_b*T_source)\n",
      "Val, err = quad(integrand, X, 40)\n",
      "phi_g = phi*.416*Val\n",
      "Iv = phi_g*q_e*A_pv\n",
      "Io = Io_Iv*Iv\n",
      "V_L = [K_b*T_pv/q_e*math.log((Io_Iv)**-1-I/Io+1)-I*Rs for I in IL]\n",
      "V_L2 = [R_Lpv*I for I in IL]\n",
      "plt.plot(IL,V_L,IL,V_L2)\n",
      "plt.xlabel(\"Current\")\n",
      "plt.ylabel(\"Volts\")\n",
      "plt.title(\"Power from the PV\")\n",
      "plt.show()"
     ],
     "language": "python",
     "metadata": {},
     "outputs": []
    },
    {
     "cell_type": "code",
     "collapsed": false,
     "input": [],
     "language": "python",
     "metadata": {},
     "outputs": []
    }
   ],
   "metadata": {}
  }
 ]
}